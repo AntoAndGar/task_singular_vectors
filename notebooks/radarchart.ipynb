{
 "cells": [
  {
   "cell_type": "markdown",
   "metadata": {},
   "source": [
    "## Imports"
   ]
  },
  {
   "cell_type": "code",
   "execution_count": 1,
   "metadata": {},
   "outputs": [],
   "source": [
    "from manim import Matrix\n",
    "from manim import * \n",
    "import json\n",
    "import math "
   ]
  },
  {
   "cell_type": "markdown",
   "metadata": {},
   "source": [
    "## Data and configs"
   ]
  },
  {
   "cell_type": "code",
   "execution_count": 2,
   "metadata": {},
   "outputs": [],
   "source": [
    "color_dict = {\n",
    "    \"Eggshell\": \"#f4f1de\",\n",
    "    \"Burnt sienna\": \"#e07a5f\",\n",
    "    \"Delft Blue\": \"#3d405b\",\n",
    "    \"Cambridge blue\": \"#81b29a\",\n",
    "    \"Sunset\": \"#f2cc8f\",\n",
    "}"
   ]
  },
  {
   "cell_type": "code",
   "execution_count": 3,
   "metadata": {},
   "outputs": [],
   "source": [
    "with open('data/radar_results_ViT-L-14.json') as f:\n",
    "    data = json.load(f)\n",
    "\n",
    "eight_tasks = data['8 Tasks']\n",
    "\n",
    "method_order = [\"Zero-shot\", \"Weight Average\", \"Task Arithmetic\", \"Consensus TA\", \"TSV-M\"]\n",
    "dataset_order = ['Cars', 'DTD', 'EuroSAT', 'GTSRB', 'MNIST', 'RESISC45', 'SVHN', 'SUN397']\n",
    "\n",
    "method_data = [[eight_tasks[method][dataset] for dataset in dataset_order] for method in method_order]"
   ]
  },
  {
   "cell_type": "markdown",
   "metadata": {},
   "source": [
    "## Scene"
   ]
  },
  {
   "cell_type": "code",
   "execution_count": 6,
   "metadata": {},
   "outputs": [
    {
     "data": {
      "text/html": [
       "<pre style=\"white-space:pre;overflow-x:auto;line-height:normal;font-family:Menlo,'DejaVu Sans Mono',consolas,'Courier New',monospace\">Manim Community <span style=\"color: #008000; text-decoration-color: #008000\">v0.18.1</span>\n",
       "\n",
       "</pre>\n"
      ],
      "text/plain": [
       "Manim Community \u001b[32mv0.\u001b[0m\u001b[32m18.1\u001b[0m\n",
       "\n"
      ]
     },
     "metadata": {},
     "output_type": "display_data"
    },
    {
     "name": "stderr",
     "output_type": "stream",
     "text": [
      "                                                                                     \r"
     ]
    },
    {
     "data": {
      "text/html": [
       "<video src=\"media/jupyter/RadarChartScene@2025-01-09@11-57-38.mp4\" controls autoplay loop style=\"max-width: 60%;\"  >\n",
       "      Your browser does not support the <code>video</code> element.\n",
       "    </video>"
      ],
      "text/plain": [
       "<IPython.core.display.Video object>"
      ]
     },
     "metadata": {},
     "output_type": "display_data"
    }
   ],
   "source": [
    "%%manim -qm -v WARNING RadarChartScene\n",
    "\n",
    "class RadarChartScene(Scene):\n",
    "    def construct(self):\n",
    "\n",
    "        methods = [\n",
    "            r\"Zeroshot\",\n",
    "            r\"Weight~Averaging\",\n",
    "            r\"Task~Arithmetic\",\n",
    "            r\"Consensus~TA\",\n",
    "            r\"\\textbf{TSV-M}\",\n",
    "        ]\n",
    "\n",
    "        bar_colors = [\n",
    "            color_dict[\"Eggshell\"],\n",
    "            color_dict[\"Sunset\"],\n",
    "            color_dict[\"Burnt sienna\"],\n",
    "            color_dict[\"Delft Blue\"],\n",
    "            color_dict[\"Cambridge blue\"],\n",
    "        ]\n",
    "\n",
    "        dataset_labels = [rf\"{dataset_order[i]}\" for i in range(8)]  \n",
    "\n",
    "        num_datasets = len(dataset_labels)  \n",
    "        num_methods = len(methods)          \n",
    "        max_radius = 3.0                    # how far out the max value (1.0) extends\n",
    "\n",
    "        # Shift the radar chart well to the left:\n",
    "        center = 3 * LEFT\n",
    "\n",
    "        #### RADAR CHART####\n",
    "\n",
    "        # 2) Draw radial axes (D1..D8)\n",
    "        axes_group = VGroup()\n",
    "        for i in range(num_datasets):\n",
    "            angle = TAU * i / num_datasets\n",
    "            end_point = center + max_radius * np.array([\n",
    "                math.cos(angle),\n",
    "                math.sin(angle),\n",
    "                0\n",
    "            ])\n",
    "            axis = Line(center, end_point, color=GRAY)\n",
    "            axes_group.add(axis)\n",
    "\n",
    "        # 3) Concentric circles (spider web)\n",
    "        ring_group = VGroup()\n",
    "        num_rings = 4\n",
    "        for r_i in np.linspace(max_radius / num_rings, max_radius, num_rings):\n",
    "            ring = Circle(radius=r_i, stroke_color=GRAY, stroke_opacity=0.5)\n",
    "            ring_group.add(ring)\n",
    "        # Move the rings to the same center\n",
    "        ring_group.move_to(center)\n",
    "\n",
    "        # 4) Axis labels for D1..D8\n",
    "        axis_labels = VGroup()\n",
    "        label_offset = 0.4\n",
    "        for i, d_label in enumerate(dataset_labels):\n",
    "            angle = TAU * i / num_datasets\n",
    "            label_pos = center + (max_radius + label_offset) * np.array([\n",
    "                math.cos(angle),\n",
    "                math.sin(angle),\n",
    "                0\n",
    "            ])\n",
    "            label_mobj = Tex(d_label, font_size=24).move_to(label_pos)\n",
    "            axis_labels.add(label_mobj)\n",
    "\n",
    "        # 5) Polygons for each method\n",
    "        polygons = VGroup()\n",
    "        for method_idx in range(num_methods):\n",
    "            data_values = method_data[method_idx]  # 8 values\n",
    "            points = []\n",
    "            for i, val in enumerate(data_values):\n",
    "                angle = TAU * i / num_datasets\n",
    "                r = val * max_radius  # data in [0,1]\n",
    "                x = r * math.cos(angle)\n",
    "                y = r * math.sin(angle)\n",
    "                points.append([x, y, 0])\n",
    "            polygon = Polygon(*points, color=bar_colors[method_idx])\n",
    "            polygon.set_fill(bar_colors[method_idx], opacity=0.3)\n",
    "            polygons.add(polygon)\n",
    "\n",
    "        # Move polygons to the left-center\n",
    "        polygons.move_to(center)\n",
    "\n",
    "        # 6) Legend (one item per method)\n",
    "        legend_items = VGroup()\n",
    "        for i, method_name in enumerate(methods):\n",
    "            color_swatch = Square(side_length=0.3, color=bar_colors[i], fill_opacity=0.3)\n",
    "            text_label = Tex(method_name, font_size=28)\n",
    "            item_group = VGroup(color_swatch, text_label).arrange(RIGHT, buff=0.2)\n",
    "            legend_items.add(item_group)\n",
    "\n",
    "        # Stack legend vertically, align left edge\n",
    "        legend_items.arrange(DOWN, aligned_edge=LEFT, buff=0.3)\n",
    "        # Place it somewhat to the right (relative to the center).\n",
    "        # You can adjust as needed.\n",
    "        legend_items.to_edge(RIGHT, buff=1).shift(DOWN * 1)\n",
    "\n",
    "        # 7) Animate radar chart elements\n",
    "        self.play(Create(axes_group))\n",
    "        self.play(Create(ring_group))\n",
    "        self.play(FadeIn(axis_labels))\n",
    "\n",
    "        # Animate polygons & bars one by one\n",
    "        for idx, poly in enumerate(polygons):\n",
    "            # Grow the bar from the bottom, show bar's numeric label & method label\n",
    "            # simultaneously create the corresponding polygon\n",
    "            # and reveal that method's legend entry\n",
    "            self.play(\n",
    "                Create(poly),\n",
    "                FadeIn(legend_items[idx]),\n",
    "                run_time=1,\n",
    "            )\n",
    "            self.wait(0.3)\n",
    "\n",
    "        self.wait(2)\n"
   ]
  },
  {
   "cell_type": "code",
   "execution_count": null,
   "metadata": {},
   "outputs": [],
   "source": []
  }
 ],
 "metadata": {
  "kernelspec": {
   "display_name": "manim",
   "language": "python",
   "name": "python3"
  },
  "language_info": {
   "codemirror_mode": {
    "name": "ipython",
    "version": 3
   },
   "file_extension": ".py",
   "mimetype": "text/x-python",
   "name": "python",
   "nbconvert_exporter": "python",
   "pygments_lexer": "ipython3",
   "version": "3.9.19"
  }
 },
 "nbformat": 4,
 "nbformat_minor": 2
}
