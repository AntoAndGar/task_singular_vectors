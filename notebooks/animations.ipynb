{
 "cells": [
  {
   "cell_type": "code",
   "execution_count": null,
   "metadata": {},
   "outputs": [],
   "source": [
    "from manim import Matrix\n",
    "from manim import * \n",
    "import numpy as np "
   ]
  },
  {
   "cell_type": "code",
   "execution_count": null,
   "metadata": {},
   "outputs": [],
   "source": [
    "color_dict = {\n",
    "    \"Eggshell\": \"#f4f1de\",\n",
    "    \"Burnt sienna\": \"#e07a5f\",\n",
    "    \"Delft Blue\": \"#3d405b\",\n",
    "    \"Cambridge blue\": \"#81b29a\",\n",
    "    \"Sunset\": \"#f2cc8f\",\n",
    "}"
   ]
  },
  {
   "cell_type": "code",
   "execution_count": null,
   "metadata": {},
   "outputs": [],
   "source": [
    "\n",
    "accuracy_data = np.array(\n",
    "    [\n",
    "        [64.70, 68.20, 65.23],  # Zeroshot\n",
    "        [79.56, 76.73, 71.60],  # Weight Averaging\n",
    "        [84.93, 79.41, 74.01],  # Task Vector\n",
    "        [86.34, 82.22, 79.00],  # Consensus TA\n",
    "        [92.98, 89.17, 87.72],  # TSV-M (Ours)\n",
    "    ]\n",
    ")"
   ]
  },
  {
   "cell_type": "code",
   "execution_count": null,
   "metadata": {},
   "outputs": [],
   "source": [
    "methods = [\"Zeroshot\", \"Weight Averaging\", \"Task Vector\", \"Consensus TA\", r\"\\textbf{TSV-M}\"]\n",
    "tasks = [\"8 tasks\", \"14 tasks\", \"20 tasks\"]"
   ]
  },
  {
   "cell_type": "code",
   "execution_count": null,
   "metadata": {},
   "outputs": [
    {
     "data": {
      "text/html": [
       "<pre style=\"white-space:pre;overflow-x:auto;line-height:normal;font-family:Menlo,'DejaVu Sans Mono',consolas,'Courier New',monospace\">Manim Community <span style=\"color: #008000; text-decoration-color: #008000\">v0.18.1</span>\n",
       "\n",
       "</pre>\n"
      ],
      "text/plain": [
       "Manim Community \u001b[32mv0.\u001b[0m\u001b[32m18.1\u001b[0m\n",
       "\n"
      ]
     },
     "metadata": {},
     "output_type": "display_data"
    },
    {
     "name": "stderr",
     "output_type": "stream",
     "text": [
      "                                                                                                    \r"
     ]
    },
    {
     "data": {
      "text/html": [
       "<video src=\"media/jupyter/BarChartScene@2025-01-03@10-18-58.mp4\" controls autoplay loop style=\"max-width: 60%;\"  >\n",
       "      Your browser does not support the <code>video</code> element.\n",
       "    </video>"
      ],
      "text/plain": [
       "<IPython.core.display.Video object>"
      ]
     },
     "metadata": {},
     "output_type": "display_data"
    }
   ],
   "source": [
    "%%manim -qm -v WARNING BarChartScene\n",
    "\n",
    "class BarChartScene(Scene):\n",
    "\n",
    "    def construct(self):\n",
    "\n",
    "        ind = 0\n",
    "\n",
    "        # for ind, num_tasks in enumerate(tasks): \n",
    "\n",
    "        bar_colors = [color_dict[\"Delft Blue\"], color_dict[\"Cambridge blue\"], color_dict[\"Sunset\"], color_dict[\"Burnt sienna\"], color_dict[\"Eggshell\"]]\n",
    "\n",
    "        chart = BarChart(\n",
    "            values=accuracy_data[:, ind],\n",
    "            bar_names=None,\n",
    "            y_range=[0, 100, 10],\n",
    "            y_length=6,\n",
    "            x_length=10,\n",
    "            x_axis_config={\n",
    "                \"font_size\": 36,\n",
    "            },        \n",
    "            bar_colors=bar_colors,\n",
    "            bar_width=0.3,  # <--- narrower bars => more spacing\n",
    "        )\n",
    "\n",
    "        chart.scale(0.8).shift(UP)\n",
    "\n",
    "        # Manually create (rotated) labels at the bottom of each bar\n",
    "        custom_labels = VGroup()\n",
    "        for bar, name in zip(chart.bars, methods):\n",
    "            label = Tex(name, font_size=20)\n",
    "            # Position the label below the bar\n",
    "            label.next_to(bar, 3*DOWN, buff=0.2)\n",
    "            # Rotate if desired\n",
    "            label.rotate(45 * DEGREES)\n",
    "            custom_labels.add(label)\n",
    "\n",
    "        c_bar_lbls = chart.get_bar_labels(font_size=32)\n",
    "\n",
    "        self.play(Write(chart), Write(custom_labels), Write(c_bar_lbls))\n",
    "        \n",
    "        self.wait(3)\n"
   ]
  },
  {
   "cell_type": "code",
   "execution_count": null,
   "metadata": {},
   "outputs": [
    {
     "name": "stdout",
     "output_type": "stream",
     "text": [
      "{'TSV-M': {'Cars': 0.7046387265265515, 'DTD': 0.8521276595744681, 'EuroSAT': 0.95125, 'GTSRB': 0.9212193190815519, 'MNIST': 0.9928, 'RESISC45': 0.8588888888888889, 'SVHN': 0.916180086047941, 'SUN397': 0.6721410579345088}, 'TSV-C': {'Cars': 0.7714214649919164, 'DTD': 0.9744680851063829, 'EuroSAT': 0.9981944444444445, 'GTSRB': 0.9901821060965954, 'MNIST': 0.9968, 'RESISC45': 0.9550793650793651, 'SVHN': 0.9754532882606023, 'SUN397': 0.7486146095717884}, 'Weight Average': {'Cars': 0.6317622186295236, 'DTD': 0.5553191489361702, 'EuroSAT': 0.7205092592592592, 'GTSRB': 0.5293745051464767, 'MNIST': 0.8681, 'RESISC45': 0.7192063492063492, 'SVHN': 0.6314920098340504, 'SUN397': 0.6510831234256927}, 'Consensus TA': {'Cars': 0.6184554159930357, 'DTD': 0.6441489361702127, 'EuroSAT': 0.8295370370370371, 'GTSRB': 0.7312747426761679, 'MNIST': 0.9803, 'RESISC45': 0.7606349206349207, 'SVHN': 0.8074677320221266, 'SUN397': 0.6309319899244332}, 'Task Arithmetic': {'Cars': 0.6218132073125233, 'DTD': 0.5904255319148937, 'EuroSAT': 0.7816666666666666, 'GTSRB': 0.6443388756927949, 'MNIST': 0.9353, 'RESISC45': 0.7261904761904762, 'SVHN': 0.7277965580823602, 'SUN397': 0.6356675062972292}, 'Zero-shot': {'Cars': 0.5973137669444099, 'DTD': 0.4398936170212766, 'EuroSAT': 0.46143518518518517, 'GTSRB': 0.32557403008709423, 'MNIST': 0.4825, 'RESISC45': 0.6065079365079366, 'SVHN': 0.3160725261216964, 'SUN397': 0.6318387909319899}}\n"
     ]
    },
    {
     "data": {
      "text/plain": [
       "[[0.5973137669444099,\n",
       "  0.4398936170212766,\n",
       "  0.46143518518518517,\n",
       "  0.32557403008709423,\n",
       "  0.4825,\n",
       "  0.6065079365079366,\n",
       "  0.3160725261216964,\n",
       "  0.6318387909319899],\n",
       " [0.6317622186295236,\n",
       "  0.5553191489361702,\n",
       "  0.7205092592592592,\n",
       "  0.5293745051464767,\n",
       "  0.8681,\n",
       "  0.7192063492063492,\n",
       "  0.6314920098340504,\n",
       "  0.6510831234256927],\n",
       " [0.6218132073125233,\n",
       "  0.5904255319148937,\n",
       "  0.7816666666666666,\n",
       "  0.6443388756927949,\n",
       "  0.9353,\n",
       "  0.7261904761904762,\n",
       "  0.7277965580823602,\n",
       "  0.6356675062972292],\n",
       " [0.6184554159930357,\n",
       "  0.6441489361702127,\n",
       "  0.8295370370370371,\n",
       "  0.7312747426761679,\n",
       "  0.9803,\n",
       "  0.7606349206349207,\n",
       "  0.8074677320221266,\n",
       "  0.6309319899244332],\n",
       " [0.7046387265265515,\n",
       "  0.8521276595744681,\n",
       "  0.95125,\n",
       "  0.9212193190815519,\n",
       "  0.9928,\n",
       "  0.8588888888888889,\n",
       "  0.916180086047941,\n",
       "  0.6721410579345088]]"
      ]
     },
     "execution_count": 34,
     "metadata": {},
     "output_type": "execute_result"
    }
   ],
   "source": [
    "import json\n",
    "from manim import *\n",
    "import numpy as np\n",
    "import math\n",
    "\n",
    "\n",
    "# The colors we'll use for each method\n",
    "bar_colors = [\n",
    "    color_dict[\"Delft Blue\"],\n",
    "    color_dict[\"Eggshell\"],\n",
    "    color_dict[\"Burnt sienna\"],\n",
    "    color_dict[\"Sunset\"],\n",
    "    color_dict[\"Cambridge blue\"],\n",
    "]\n",
    "\n",
    "# load json \n",
    "\n",
    "with open('data/radar_results_ViT-B-32.json') as f:\n",
    "    data = json.load(f)\n",
    "\n",
    "eight_tasks = data['8 Tasks']\n",
    "\n",
    "print(eight_tasks)\n",
    "    \n",
    "method_order = [\"Zero-shot\", \"Weight Average\", \"Task Arithmetic\", \"Consensus TA\", \"TSV-M\"]\n",
    "dataset_order = ['Cars', 'DTD', 'EuroSAT', 'GTSRB', 'MNIST', 'RESISC45', 'SVHN', 'SUN397']\n",
    "method_data = [[eight_tasks[method][dataset] for dataset in dataset_order] for method in method_order]\n",
    "method_data"
   ]
  },
  {
   "cell_type": "code",
   "execution_count": null,
   "metadata": {},
   "outputs": [
    {
     "data": {
      "text/html": [
       "<pre style=\"white-space:pre;overflow-x:auto;line-height:normal;font-family:Menlo,'DejaVu Sans Mono',consolas,'Courier New',monospace\">Manim Community <span style=\"color: #008000; text-decoration-color: #008000\">v0.18.1</span>\n",
       "\n",
       "</pre>\n"
      ],
      "text/plain": [
       "Manim Community \u001b[32mv0.\u001b[0m\u001b[32m18.1\u001b[0m\n",
       "\n"
      ]
     },
     "metadata": {},
     "output_type": "display_data"
    },
    {
     "name": "stderr",
     "output_type": "stream",
     "text": [
      "                                                                                               \r"
     ]
    },
    {
     "data": {
      "text/html": [
       "<video src=\"media/jupyter/RadarChartScene@2025-01-03@15-15-00.mp4\" controls autoplay loop style=\"max-width: 60%;\"  >\n",
       "      Your browser does not support the <code>video</code> element.\n",
       "    </video>"
      ],
      "text/plain": [
       "<IPython.core.display.Video object>"
      ]
     },
     "metadata": {},
     "output_type": "display_data"
    }
   ],
   "source": [
    "%%manim -qm -v WARNING RadarChartScene \n",
    "\n",
    "\n",
    "class RadarChartScene(Scene):\n",
    "    def construct(self):\n",
    "        #### 1) Define data ####\n",
    "\n",
    "        methods = [\n",
    "            r\"Zeroshot\",\n",
    "            r\"Weight~Averaging\",\n",
    "            r\"Task~Arithmetic\",\n",
    "            r\"Consensus~TA\",\n",
    "            r\"\\textbf{TSV-M}\",\n",
    "        ]\n",
    "        dataset_labels = [rf\"{dataset_order[i]}\" for i in range(8)]  # [\"D1\", \"D2\", ..., \"D8\"]\n",
    "\n",
    "        num_datasets = len(dataset_labels)  # 8\n",
    "        num_methods = len(methods)          # 5\n",
    "        max_radius = 3.0                    # how far out the max value (1.0) extends\n",
    "        center = ORIGIN + 2*LEFT            # center of the radar chart\n",
    "\n",
    "        #### 2) Draw radial axes for D1..D8 ####\n",
    "\n",
    "        axes_group = VGroup()\n",
    "        for i in range(num_datasets):\n",
    "            angle = TAU * i / num_datasets  # TAU = 2*pi\n",
    "            end_point = center + max_radius * np.array([\n",
    "                math.cos(angle),\n",
    "                math.sin(angle),\n",
    "                0\n",
    "            ])\n",
    "            axis = Line(center, end_point, color=GRAY)\n",
    "            axes_group.add(axis)\n",
    "\n",
    "        #### 3) (Optional) Draw concentric circles (spider web) ####\n",
    "        ring_group = VGroup()\n",
    "        num_rings = 4  # e.g., 4 circles for 25%, 50%, 75%, 100%\n",
    "        for r_i in np.linspace(max_radius / num_rings, max_radius, num_rings):\n",
    "            ring = Circle(radius=r_i, stroke_color=GRAY, stroke_opacity=0.5)\n",
    "            ring_group.add(ring)\n",
    "\n",
    "        # Move the axes to the center of the chart\n",
    "        ring_group.move_to(center)\n",
    "\n",
    "        #### 4) Create axis labels at the outer edges: \"D1\", ..., \"D8\" ####\n",
    "        axis_labels = VGroup()\n",
    "        label_offset = 0.4  # how far beyond the circle to place the label\n",
    "        for i, d_label in enumerate(dataset_labels):\n",
    "            angle = TAU * i / num_datasets\n",
    "            label_pos = center + (max_radius + label_offset) * np.array([\n",
    "                math.cos(angle),\n",
    "                math.sin(angle),\n",
    "                0\n",
    "            ])\n",
    "            label_mobj = Tex(d_label, font_size=24).move_to(label_pos)\n",
    "            axis_labels.add(label_mobj)\n",
    "\n",
    "        #### 5) Create a polygon for each method ####\n",
    "        polygons = VGroup()\n",
    "        for method_idx in range(num_methods):\n",
    "            data_values = method_data[method_idx]  # 8 values\n",
    "            points = []\n",
    "            for i, val in enumerate(data_values):\n",
    "                angle = TAU * i / num_datasets\n",
    "                r = val * max_radius  # scale data [0,1] => [0, max_radius]\n",
    "                x = r * math.cos(angle)\n",
    "                y = r * math.sin(angle)\n",
    "                points.append([x, y, 0])\n",
    "\n",
    "            polygon = Polygon(*points, color=bar_colors[method_idx])\n",
    "            polygon.set_fill(bar_colors[method_idx], opacity=0.3)\n",
    "            polygons.add(polygon)\n",
    "\n",
    "        # move polygons to the center of the radar chart\n",
    "        polygons.move_to(center)\n",
    "\n",
    "        #### 6) Create a legend for the 5 methods ####\n",
    "        # We'll place them in a single column, and animate them one-by-one.\n",
    "        legend_items = VGroup()\n",
    "        for i, method_name in enumerate(methods):\n",
    "            color_swatch = Square(side_length=0.3, color=bar_colors[i], fill_opacity=0.3)\n",
    "            text_label = Tex(method_name, font_size=28)\n",
    "            # Put swatch + label side by side\n",
    "            item_group = VGroup(color_swatch, text_label).arrange(RIGHT, buff=0.2)\n",
    "            legend_items.add(item_group)\n",
    "\n",
    "        # Now arrange these items in a vertical list (DOWN) with some spacing.\n",
    "        legend_items.arrange(DOWN, aligned_edge=LEFT, buff=0.3)\n",
    "\n",
    "        # Position the legend to the right side of the screen\n",
    "        legend_items.to_edge( 1.5 * RIGHT, buff=1)\n",
    "\n",
    "        #### 7) Animate the elements ####\n",
    "        # Axes, rings, axis labels\n",
    "        self.play(Create(axes_group))\n",
    "        self.play(Create(ring_group))\n",
    "        self.play(FadeIn(axis_labels))\n",
    "\n",
    "        # Polygons, one by one\n",
    "        for ind, poly in enumerate(polygons):\n",
    "            self.play(Create(poly), run_time=1)\n",
    "            self.play(FadeIn(legend_items[ind]))\n",
    "\n",
    "            self.wait(0.3)\n",
    "\n",
    "        self.wait(2)"
   ]
  },
  {
   "cell_type": "code",
   "execution_count": null,
   "metadata": {},
   "outputs": [],
   "source": []
  },
  {
   "cell_type": "code",
   "execution_count": null,
   "metadata": {},
   "outputs": [],
   "source": []
  }
 ],
 "metadata": {
  "kernelspec": {
   "display_name": "manim",
   "language": "python",
   "name": "python3"
  },
  "language_info": {
   "codemirror_mode": {
    "name": "ipython",
    "version": 3
   },
   "file_extension": ".py",
   "mimetype": "text/x-python",
   "name": "python",
   "nbconvert_exporter": "python",
   "pygments_lexer": "ipython3",
   "version": "3.9.19"
  }
 },
 "nbformat": 4,
 "nbformat_minor": 2
}
