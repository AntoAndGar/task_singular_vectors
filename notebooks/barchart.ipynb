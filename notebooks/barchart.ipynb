{
 "cells": [
  {
   "cell_type": "markdown",
   "metadata": {},
   "source": [
    "## Imports"
   ]
  },
  {
   "cell_type": "code",
   "execution_count": 8,
   "metadata": {},
   "outputs": [],
   "source": [
    "from manim import Matrix\n",
    "from manim import * "
   ]
  },
  {
   "cell_type": "markdown",
   "metadata": {},
   "source": [
    "## Data and configs"
   ]
  },
  {
   "cell_type": "code",
   "execution_count": 9,
   "metadata": {},
   "outputs": [],
   "source": [
    "color_dict = {\n",
    "    \"Eggshell\": \"#f4f1de\",\n",
    "    \"Burnt sienna\": \"#e07a5f\",\n",
    "    \"Delft Blue\": \"#3d405b\",\n",
    "    \"Cambridge blue\": \"#81b29a\",\n",
    "    \"Sunset\": \"#f2cc8f\",\n",
    "}"
   ]
  },
  {
   "cell_type": "code",
   "execution_count": 10,
   "metadata": {},
   "outputs": [],
   "source": [
    "\n",
    "accuracy_data = np.array(\n",
    "    [\n",
    "        [64.70, 68.20, 65.23],  # Zeroshot\n",
    "        [79.56, 76.73, 71.60],  # Weight Averaging\n",
    "        [84.93, 79.41, 74.01],  # Task Vector\n",
    "        [86.34, 82.22, 79.00],  # Consensus TA\n",
    "        [92.98, 89.17, 87.72],  # TSV-M (Ours)\n",
    "    ]\n",
    ")"
   ]
  },
  {
   "cell_type": "code",
   "execution_count": 11,
   "metadata": {},
   "outputs": [],
   "source": [
    "methods = [\"Zeroshot\", \"Weight Averaging\", \"Task Vector\", \"Consensus TA\", r\"\\textbf{TSV}\"]\n",
    "tasks = [\"8 tasks\", \"14 tasks\", \"20 tasks\"]"
   ]
  },
  {
   "cell_type": "markdown",
   "metadata": {},
   "source": [
    "## Scene"
   ]
  },
  {
   "cell_type": "code",
   "execution_count": 13,
   "metadata": {},
   "outputs": [
    {
     "data": {
      "text/html": [
       "<pre style=\"white-space:pre;overflow-x:auto;line-height:normal;font-family:Menlo,'DejaVu Sans Mono',consolas,'Courier New',monospace\">Manim Community <span style=\"color: #008000; text-decoration-color: #008000\">v0.18.1</span>\n",
       "\n",
       "</pre>\n"
      ],
      "text/plain": [
       "Manim Community \u001b[32mv0.\u001b[0m\u001b[32m18.1\u001b[0m\n",
       "\n"
      ]
     },
     "metadata": {},
     "output_type": "display_data"
    },
    {
     "name": "stderr",
     "output_type": "stream",
     "text": [
      "                                                                                             \r"
     ]
    },
    {
     "data": {
      "text/html": [
       "<video src=\"media/jupyter/BarChartScene@2025-01-09@11-54-42.mp4\" controls autoplay loop style=\"max-width: 60%;\"  >\n",
       "      Your browser does not support the <code>video</code> element.\n",
       "    </video>"
      ],
      "text/plain": [
       "<IPython.core.display.Video object>"
      ]
     },
     "metadata": {},
     "output_type": "display_data"
    }
   ],
   "source": [
    "%%manim -qh -v WARNING BarChartScene\n",
    "\n",
    "class BarChartScene(Scene):\n",
    "\n",
    "    def construct(self):\n",
    "        ind = 0\n",
    "        bar_colors = [\n",
    "            color_dict[\"Delft Blue\"],\n",
    "            color_dict[\"Cambridge blue\"],\n",
    "            color_dict[\"Sunset\"],\n",
    "            color_dict[\"Burnt sienna\"],\n",
    "            color_dict[\"Eggshell\"],\n",
    "        ]\n",
    "\n",
    "        chart = BarChart(\n",
    "            values=accuracy_data[:, ind],\n",
    "            bar_names=None,  # We'll manually place method labels\n",
    "            y_range=[0, 100, 10],\n",
    "            y_length=6,\n",
    "            x_length=10,\n",
    "            x_axis_config={\"font_size\": 36},\n",
    "            bar_colors=bar_colors,\n",
    "            bar_width=0.3,\n",
    "        )\n",
    "        chart.scale(0.8).shift(UP)\n",
    "\n",
    "        # 2) Create the bar-value labels (the numbers above each bar).\n",
    "        c_bar_lbls = chart.get_bar_labels(font_size=32)\n",
    "\n",
    "        # 3) Create custom method labels (rotated).\n",
    "        custom_labels = VGroup()\n",
    "        for bar, name in zip(chart.bars, methods):\n",
    "            label = Tex(name, font_size=20)\n",
    "            label.rotate(45 * DEGREES)\n",
    "            # Place the label well below the bar\n",
    "            label.next_to(bar, 3 * DOWN, buff=0.2)\n",
    "            custom_labels.add(label)\n",
    "\n",
    "        # 4) First, add/animate the axes (so they're on screen):\n",
    "        self.play(Create(chart.axes))     \n",
    "\n",
    "        # 5) Animate each bar, one at a time, followed by the labels.\n",
    "        for bar, value_label, method_label in zip(chart.bars, c_bar_lbls, custom_labels):\n",
    "            # Grow the bar from the bottom\n",
    "            self.play(GrowFromEdge(bar, DOWN), run_time=0.6)\n",
    "            # Then show the numeric label (above bar) and method label (below bar)\n",
    "            self.play(FadeIn(value_label), FadeIn(method_label))\n",
    "            self.wait(0.3)\n",
    "\n",
    "        self.wait(3)\n"
   ]
  },
  {
   "cell_type": "code",
   "execution_count": null,
   "metadata": {},
   "outputs": [],
   "source": []
  }
 ],
 "metadata": {
  "kernelspec": {
   "display_name": "manim",
   "language": "python",
   "name": "python3"
  },
  "language_info": {
   "codemirror_mode": {
    "name": "ipython",
    "version": 3
   },
   "file_extension": ".py",
   "mimetype": "text/x-python",
   "name": "python",
   "nbconvert_exporter": "python",
   "pygments_lexer": "ipython3",
   "version": "3.9.19"
  }
 },
 "nbformat": 4,
 "nbformat_minor": 2
}
