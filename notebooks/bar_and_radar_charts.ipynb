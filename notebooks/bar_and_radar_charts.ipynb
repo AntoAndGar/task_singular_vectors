{
 "cells": [
  {
   "cell_type": "markdown",
   "metadata": {},
   "source": [
    "## Imports"
   ]
  },
  {
   "cell_type": "code",
   "execution_count": 9,
   "metadata": {},
   "outputs": [],
   "source": [
    "from manim import Matrix\n",
    "from manim import * \n",
    "import json\n",
    "import math \n",
    "import numpy as np"
   ]
  },
  {
   "cell_type": "markdown",
   "metadata": {},
   "source": [
    "## Data and configs"
   ]
  },
  {
   "cell_type": "code",
   "execution_count": 10,
   "metadata": {},
   "outputs": [],
   "source": [
    "color_dict = {\n",
    "    \"Eggshell\": \"#f4f1de\",\n",
    "    \"Burnt sienna\": \"#e07a5f\",\n",
    "    \"Delft Blue\": \"#3d405b\",\n",
    "    \"Cambridge blue\": \"#81b29a\",\n",
    "    \"Sunset\": \"#f2cc8f\",\n",
    "}"
   ]
  },
  {
   "cell_type": "code",
   "execution_count": 11,
   "metadata": {},
   "outputs": [],
   "source": [
    "accuracy_data = np.array(\n",
    "    [\n",
    "        [64.70, 68.20, 65.23],  # Zeroshot\n",
    "        [79.56, 76.73, 71.60],  # Weight Averaging\n",
    "        [84.93, 79.41, 74.01],  # Task Vector\n",
    "        [86.34, 82.22, 79.00],  # Consensus TA\n",
    "        [92.98, 89.17, 87.72],  # TSV-M (Ours)\n",
    "    ]\n",
    ")"
   ]
  },
  {
   "cell_type": "code",
   "execution_count": 12,
   "metadata": {},
   "outputs": [],
   "source": [
    "bar_colors = [\n",
    "    color_dict[\"Delft Blue\"],\n",
    "    color_dict[\"Eggshell\"],\n",
    "    color_dict[\"Burnt sienna\"],\n",
    "    color_dict[\"Sunset\"],\n",
    "    color_dict[\"Cambridge blue\"],\n",
    "]\n",
    "\n",
    "with open('data/radar_results_ViT-L-14.json') as f:\n",
    "    data = json.load(f)\n",
    "\n",
    "eight_tasks = data['8 Tasks']\n",
    "\n",
    "method_order = [\"Zero-shot\", \"Weight Average\", \"Task Arithmetic\", \"Consensus TA\", \"TSV-M\"]\n",
    "dataset_order = ['Cars', 'DTD', 'EuroSAT', 'GTSRB', 'MNIST', 'RESISC45', 'SVHN', 'SUN397']\n",
    "\n",
    "method_data = [[eight_tasks[method][dataset] for dataset in dataset_order] for method in method_order]"
   ]
  },
  {
   "cell_type": "markdown",
   "metadata": {},
   "source": [
    "## Scene"
   ]
  },
  {
   "cell_type": "code",
   "execution_count": 13,
   "metadata": {},
   "outputs": [
    {
     "data": {
      "text/html": [
       "<pre style=\"white-space:pre;overflow-x:auto;line-height:normal;font-family:Menlo,'DejaVu Sans Mono',consolas,'Courier New',monospace\">Manim Community <span style=\"color: #008000; text-decoration-color: #008000\">v0.18.1</span>\n",
       "\n",
       "</pre>\n"
      ],
      "text/plain": [
       "Manim Community \u001b[32mv0.\u001b[0m\u001b[32m18.1\u001b[0m\n",
       "\n"
      ]
     },
     "metadata": {},
     "output_type": "display_data"
    },
    {
     "name": "stderr",
     "output_type": "stream",
     "text": [
      "                                                                                 \r"
     ]
    },
    {
     "data": {
      "text/html": [
       "<video src=\"media/jupyter/RadarChartScene@2025-01-09@11-59-05.mp4\" controls autoplay loop style=\"max-width: 60%;\"  >\n",
       "      Your browser does not support the <code>video</code> element.\n",
       "    </video>"
      ],
      "text/plain": [
       "<IPython.core.display.Video object>"
      ]
     },
     "metadata": {},
     "output_type": "display_data"
    }
   ],
   "source": [
    "%%manim -qh -v WARNING RadarChartScene\n",
    "\n",
    "class RadarChartScene(Scene):\n",
    "    def construct(self):\n",
    "        #### 1) Define data ####\n",
    "\n",
    "        ind = 0\n",
    "\n",
    "        methods = [\n",
    "            r\"Zeroshot\",\n",
    "            r\"Weight~Averaging\",\n",
    "            r\"Task~Arithmetic\",\n",
    "            r\"Consensus~TA\",\n",
    "            r\"\\textbf{TSV}\",\n",
    "        ]\n",
    "        dataset_labels = [rf\"{dataset_order[i]}\" for i in range(8)] \n",
    "\n",
    "        num_datasets = len(dataset_labels) \n",
    "        num_methods = len(methods)         \n",
    "        max_radius = 3.0                    # how far out the max value (1.0) extends\n",
    "\n",
    "        # Shift the radar chart well to the left:\n",
    "        center = 3 * LEFT + 0.5 * UP\n",
    "        right_center = 1 * RIGHT + 0.5 * UP\n",
    "\n",
    "        ############## BAR CHART (RIGHT SIDE) ################\n",
    "\n",
    "        bar_colors = [\n",
    "            color_dict[\"Eggshell\"],\n",
    "            color_dict[\"Sunset\"],\n",
    "            color_dict[\"Burnt sienna\"],\n",
    "            color_dict[\"Delft Blue\"],\n",
    "            color_dict[\"Cambridge blue\"],\n",
    "        ]\n",
    "\n",
    "        chart = BarChart(\n",
    "            values=accuracy_data[:, ind],\n",
    "            bar_names=None,  # We'll manually place method labels\n",
    "            y_range=[0, 100, 10],\n",
    "            y_length=6,\n",
    "            x_length=10,\n",
    "            x_axis_config={\"font_size\": 36},\n",
    "            bar_colors=bar_colors,\n",
    "            bar_width=0.3,\n",
    "        )\n",
    "        # Make it a bit smaller and move it to the right\n",
    "        chart.scale(0.7).move_to(right_center)\n",
    "\n",
    "        # Bar-value labels (numbers above bars)\n",
    "        c_bar_lbls = chart.get_bar_labels(font_size=32)\n",
    "\n",
    "        # Custom method labels below bars (rotated)\n",
    "        custom_labels = VGroup()\n",
    "        for bar, name in zip(chart.bars, methods):\n",
    "            label = Tex(name, font_size=20)\n",
    "            label.rotate(45 * DEGREES).scale(1.5)\n",
    "            label.next_to(bar, 3 * DOWN, buff=0.2)\n",
    "            custom_labels.add(label)\n",
    "\n",
    "        #### RADAR CHART (LEFT SIDE) ####\n",
    "\n",
    "        # 2) Draw radial axes \n",
    "        axes_group = VGroup()\n",
    "        for i in range(num_datasets):\n",
    "            angle = TAU * i / num_datasets\n",
    "            end_point = center + max_radius * np.array([\n",
    "                math.cos(angle),\n",
    "                math.sin(angle),\n",
    "                0\n",
    "            ])\n",
    "            axis = Line(center, end_point, color=GRAY)\n",
    "            axes_group.add(axis)\n",
    "\n",
    "        # 3) Concentric circles (spider web)\n",
    "        ring_group = VGroup()\n",
    "        num_rings = 4\n",
    "        for r_i in np.linspace(max_radius / num_rings, max_radius, num_rings):\n",
    "            ring = Circle(radius=r_i, stroke_color=GRAY, stroke_opacity=0.5)\n",
    "            ring_group.add(ring)\n",
    "        # Move the rings to the same center\n",
    "        ring_group.move_to(center)\n",
    "\n",
    "        # 4) Axis labels for dataset names\n",
    "        axis_labels = VGroup()\n",
    "        label_offset = 0.4\n",
    "        for i, d_label in enumerate(dataset_labels):\n",
    "            angle = TAU * i / num_datasets\n",
    "            label_pos = center + (max_radius + label_offset) * np.array([\n",
    "                math.cos(angle),\n",
    "                math.sin(angle),\n",
    "                0\n",
    "            ])\n",
    "            label_mobj = Tex(d_label, font_size=24).move_to(label_pos)\n",
    "            axis_labels.add(label_mobj)\n",
    "\n",
    "        # 5) Polygons for each method\n",
    "        polygons = VGroup()\n",
    "        for method_idx in range(num_methods):\n",
    "            data_values = method_data[method_idx]  # 8 values\n",
    "            points = []\n",
    "            for i, val in enumerate(data_values):\n",
    "                angle = TAU * i / num_datasets\n",
    "                r = val * max_radius  # data in [0,1]\n",
    "                x = r * math.cos(angle)\n",
    "                y = r * math.sin(angle)\n",
    "                points.append([x, y, 0])\n",
    "            polygon = Polygon(*points, color=bar_colors[method_idx])\n",
    "            polygon.set_fill(bar_colors[method_idx], opacity=0.3)\n",
    "            polygons.add(polygon)\n",
    "\n",
    "        # Move polygons to the left-center\n",
    "        polygons.shift(center)\n",
    "\n",
    "        barchart_group = VGroup(chart, c_bar_lbls, custom_labels)\n",
    "        barchart_group.scale(0.8).to_edge(RIGHT)\n",
    "\n",
    "        radarchart_group = VGroup(axes_group, ring_group, axis_labels, polygons)\n",
    "        radarchart_group.scale(0.8).to_edge(LEFT)\n",
    "\n",
    "        # 7) Create charts\n",
    "        self.add(axes_group, ring_group, axis_labels, chart.axes)\n",
    "\n",
    "        # Animate polygons & bars one by one\n",
    "        for idx, (poly, bar, value_label, method_label) in enumerate(\n",
    "            zip(polygons, chart.bars, c_bar_lbls, custom_labels)\n",
    "        ):\n",
    "            # Grow the bar from the bottom, show bar's numeric label & method label\n",
    "            # simultaneously create the corresponding polygon\n",
    "            self.play(\n",
    "                GrowFromEdge(bar, DOWN),\n",
    "                FadeIn(value_label),\n",
    "                FadeIn(method_label),\n",
    "                Create(poly),\n",
    "                run_time=1,\n",
    "            )\n",
    "            self.wait(0.6)\n",
    "\n",
    "        self.wait(2)\n"
   ]
  },
  {
   "cell_type": "code",
   "execution_count": null,
   "metadata": {},
   "outputs": [],
   "source": []
  }
 ],
 "metadata": {
  "kernelspec": {
   "display_name": "manim",
   "language": "python",
   "name": "python3"
  },
  "language_info": {
   "codemirror_mode": {
    "name": "ipython",
    "version": 3
   },
   "file_extension": ".py",
   "mimetype": "text/x-python",
   "name": "python",
   "nbconvert_exporter": "python",
   "pygments_lexer": "ipython3",
   "version": "3.9.19"
  }
 },
 "nbformat": 4,
 "nbformat_minor": 2
}
